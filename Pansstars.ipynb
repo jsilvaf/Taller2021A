{
 "cells": [
  {
   "cell_type": "code",
   "execution_count": 1,
   "metadata": {},
   "outputs": [],
   "source": [
    "import matplotlib.pyplot as plt\n",
    "import pandas as pd\n",
    "import numpy as np\n",
    "import astroquery"
   ]
  },
  {
   "cell_type": "markdown",
   "metadata": {},
   "source": [
    "## BL Lac"
   ]
  },
  {
   "cell_type": "code",
   "execution_count": 2,
   "metadata": {},
   "outputs": [],
   "source": [
    "ra = 330.680\n",
    "dec = 42.2780"
   ]
  },
  {
   "cell_type": "code",
   "execution_count": 3,
   "metadata": {},
   "outputs": [],
   "source": [
    "import astropy.coordinates as coord\n",
    "import astropy.units as u\n",
    "coords = coord.SkyCoord(ra=ra, dec=dec, unit=(u.deg, u.deg))\n",
    "radius = 10*u.arcsec"
   ]
  },
  {
   "cell_type": "code",
   "execution_count": 4,
   "metadata": {},
   "outputs": [],
   "source": [
    "from astroquery.ned import Ned\n",
    "result_table = Ned.query_object(\"RXJ1754.1+3212\")"
   ]
  },
  {
   "cell_type": "code",
   "execution_count": 5,
   "metadata": {},
   "outputs": [
    {
     "data": {
      "text/html": [
       "<i>Table length=1</i>\n",
       "<table id=\"table140717965368848\" class=\"table-striped table-bordered table-condensed\">\n",
       "<thead><tr><th>No.</th><th>Object Name</th><th>RA</th><th>DEC</th><th>Type</th><th>Velocity</th><th>Redshift</th><th>Redshift Flag</th><th>Magnitude and Filter</th><th>Separation</th><th>References</th><th>Notes</th><th>Photometry Points</th><th>Positions</th><th>Redshift Points</th><th>Diameter Points</th><th>Associations</th></tr></thead>\n",
       "<thead><tr><th></th><th></th><th>degrees</th><th>degrees</th><th></th><th>km / s</th><th></th><th></th><th></th><th>arcmin</th><th></th><th></th><th></th><th></th><th></th><th></th><th></th></tr></thead>\n",
       "<thead><tr><th>int32</th><th>str30</th><th>float64</th><th>float64</th><th>object</th><th>float64</th><th>float64</th><th>object</th><th>object</th><th>float64</th><th>int32</th><th>int32</th><th>int32</th><th>int32</th><th>int32</th><th>int32</th><th>int32</th></tr></thead>\n",
       "<tr><td>1</td><td>WISE J175411.80+321223.1</td><td>268.54915</td><td>32.2064</td><td>RadioS</td><td>--</td><td>--</td><td></td><td>1.58</td><td>--</td><td>39</td><td>0</td><td>29</td><td>18</td><td>0</td><td>0</td><td>0</td></tr>\n",
       "</table>"
      ],
      "text/plain": [
       "<Table length=1>\n",
       " No.        Object Name            RA     ... Diameter Points Associations\n",
       "                                degrees   ...                             \n",
       "int32          str30            float64   ...      int32         int32    \n",
       "----- ------------------------ ---------- ... --------------- ------------\n",
       "    1 WISE J175411.80+321223.1  268.54915 ...               0            0"
      ]
     },
     "execution_count": 5,
     "metadata": {},
     "output_type": "execute_result"
    }
   ],
   "source": [
    "result_table"
   ]
  },
  {
   "cell_type": "code",
   "execution_count": null,
   "metadata": {},
   "outputs": [],
   "source": []
  },
  {
   "cell_type": "code",
   "execution_count": 6,
   "metadata": {},
   "outputs": [],
   "source": [
    "from astropy.io import ascii\n",
    "from astropy.table import Table\n",
    "\n",
    "import sys\n",
    "import re\n",
    "import numpy as np\n",
    "import pylab\n",
    "import json\n",
    "import requests\n",
    "\n",
    "try: # Python 3.x\n",
    "    from urllib.parse import quote as urlencode\n",
    "    from urllib.request import urlretrieve\n",
    "except ImportError:  # Python 2.x\n",
    "    from urllib import pathname2url as urlencode\n",
    "    from urllib import urlretrieve\n",
    "\n",
    "try: # Python 3.x\n",
    "    import http.client as httplib \n",
    "except ImportError:  # Python 2.x\n",
    "    import httplib   "
   ]
  },
  {
   "cell_type": "code",
   "execution_count": 7,
   "metadata": {},
   "outputs": [],
   "source": [
    "def ps1cone(ra,dec,radius,table=\"mean\",release=\"dr2\",format=\"csv\",columns=None,\n",
    "           baseurl=\"https://catalogs.mast.stsci.edu/api/v0.1/panstarrs\", verbose=False,\n",
    "           **kw):\n",
    "    \"\"\"Do a cone search of the PS1 catalog\n",
    "    \n",
    "    Parameters\n",
    "    ----------\n",
    "    ra (float): (degrees) J2000 Right Ascension\n",
    "    dec (float): (degrees) J2000 Declination\n",
    "    radius (float): (degrees) Search radius (<= 0.5 degrees)\n",
    "    table (string): mean, stack, or detection\n",
    "    release (string): dr1 or dr2\n",
    "    format: csv, votable, json\n",
    "    columns: list of column names to include (None means use defaults)\n",
    "    baseurl: base URL for the request\n",
    "    verbose: print info about request\n",
    "    **kw: other parameters (e.g., 'nDetections.min':2)\n",
    "    \"\"\"\n",
    "    \n",
    "    data = kw.copy()\n",
    "    data['ra'] = ra\n",
    "    data['dec'] = dec\n",
    "    data['radius'] = radius\n",
    "    return ps1search(table=table,release=release,format=format,columns=columns,\n",
    "                    baseurl=baseurl, verbose=verbose, **data)\n",
    "\n",
    "\n",
    "def ps1search(table=\"mean\",release=\"dr1\",format=\"csv\",columns=None,\n",
    "           baseurl=\"https://catalogs.mast.stsci.edu/api/v0.1/panstarrs\", verbose=False,\n",
    "           **kw):\n",
    "    \"\"\"Do a general search of the PS1 catalog (possibly without ra/dec/radius)\n",
    "    \n",
    "    Parameters\n",
    "    ----------\n",
    "    table (string): mean, stack, or detection\n",
    "    release (string): dr1 or dr2\n",
    "    format: csv, votable, json\n",
    "    columns: list of column names to include (None means use defaults)\n",
    "    baseurl: base URL for the request\n",
    "    verbose: print info about request\n",
    "    **kw: other parameters (e.g., 'nDetections.min':2).  Note this is required!\n",
    "    \"\"\"\n",
    "    \n",
    "    data = kw.copy()\n",
    "    if not data:\n",
    "        raise ValueError(\"You must specify some parameters for search\")\n",
    "    checklegal(table,release)\n",
    "    if format not in (\"csv\",\"votable\",\"json\"):\n",
    "        raise ValueError(\"Bad value for format\")\n",
    "    url = \"{baseurl}/{release}/{table}.{format}\".format(**locals())\n",
    "    if columns:\n",
    "        # check that column values are legal\n",
    "        # create a dictionary to speed this up\n",
    "        dcols = {}\n",
    "        for col in ps1metadata(table,release)['name']:\n",
    "            dcols[col.lower()] = 1\n",
    "        badcols = []\n",
    "        for col in columns:\n",
    "            if col.lower().strip() not in dcols:\n",
    "                badcols.append(col)\n",
    "        if badcols:\n",
    "            raise ValueError('Some columns not found in table: {}'.format(', '.join(badcols)))\n",
    "        # two different ways to specify a list of column values in the API\n",
    "        # data['columns'] = columns\n",
    "        data['columns'] = '[{}]'.format(','.join(columns))\n",
    "\n",
    "# either get or post works\n",
    "#    r = requests.post(url, data=data)\n",
    "    r = requests.get(url, params=data)\n",
    "\n",
    "    if verbose:\n",
    "        print(r.url)\n",
    "    r.raise_for_status()\n",
    "    if format == \"json\":\n",
    "        return r.json()\n",
    "    else:\n",
    "        return r.text\n",
    "\n",
    "\n",
    "def checklegal(table,release):\n",
    "    \"\"\"Checks if this combination of table and release is acceptable\n",
    "    \n",
    "    Raises a VelueError exception if there is problem\n",
    "    \"\"\"\n",
    "    \n",
    "    releaselist = (\"dr1\", \"dr2\")\n",
    "    if release not in (\"dr1\",\"dr2\"):\n",
    "        raise ValueError(\"Bad value for release (must be one of {})\".format(', '.join(releaselist)))\n",
    "    if release==\"dr1\":\n",
    "        tablelist = (\"mean\", \"stack\")\n",
    "    else:\n",
    "        tablelist = (\"mean\", \"stack\", \"detection\")\n",
    "    if table not in tablelist:\n",
    "        raise ValueError(\"Bad value for table (for {} must be one of {})\".format(release, \", \".join(tablelist)))\n",
    "\n",
    "\n",
    "def ps1metadata(table=\"mean\",release=\"dr1\",\n",
    "           baseurl=\"https://catalogs.mast.stsci.edu/api/v0.1/panstarrs\"):\n",
    "    \"\"\"Return metadata for the specified catalog and table\n",
    "    \n",
    "    Parameters\n",
    "    ----------\n",
    "    table (string): mean, stack, or detection\n",
    "    release (string): dr1 or dr2\n",
    "    baseurl: base URL for the request\n",
    "    \n",
    "    Returns an astropy table with columns name, type, description\n",
    "    \"\"\"\n",
    "    \n",
    "    checklegal(table,release)\n",
    "    url = \"{baseurl}/{release}/{table}/metadata\".format(**locals())\n",
    "    r = requests.get(url)\n",
    "    r.raise_for_status()\n",
    "    v = r.json()\n",
    "    # convert to astropy table\n",
    "    tab = Table(rows=[(x['name'],x['type'],x['description']) for x in v],\n",
    "               names=('name','type','description'))\n",
    "    return tab\n",
    "\n",
    "\n",
    "def mastQuery(request):\n",
    "    \"\"\"Perform a MAST query.\n",
    "\n",
    "    Parameters\n",
    "    ----------\n",
    "    request (dictionary): The MAST request json object\n",
    "\n",
    "    Returns head,content where head is the response HTTP headers, and content is the returned data\n",
    "    \"\"\"\n",
    "    \n",
    "    server='mast.stsci.edu'\n",
    "\n",
    "    # Grab Python Version \n",
    "    version = \".\".join(map(str, sys.version_info[:3]))\n",
    "\n",
    "    # Create Http Header Variables\n",
    "    headers = {\"Content-type\": \"application/x-www-form-urlencoded\",\n",
    "               \"Accept\": \"text/plain\",\n",
    "               \"User-agent\":\"python-requests/\"+version}\n",
    "\n",
    "    # Encoding the request as a json string\n",
    "    requestString = json.dumps(request)\n",
    "    requestString = urlencode(requestString)\n",
    "    \n",
    "    # opening the https connection\n",
    "    conn = httplib.HTTPSConnection(server)\n",
    "\n",
    "    # Making the query\n",
    "    conn.request(\"POST\", \"/api/v0/invoke\", \"request=\"+requestString, headers)\n",
    "\n",
    "    # Getting the response\n",
    "    resp = conn.getresponse()\n",
    "    head = resp.getheaders()\n",
    "    content = resp.read().decode('utf-8')\n",
    "\n",
    "    # Close the https connection\n",
    "    conn.close()\n",
    "\n",
    "    return head,content\n",
    "\n",
    "\n",
    "def resolve(name):\n",
    "    \"\"\"Get the RA and Dec for an object using the MAST name resolver\n",
    "    \n",
    "    Parameters\n",
    "    ----------\n",
    "    name (str): Name of object\n",
    "\n",
    "    Returns RA, Dec tuple with position\"\"\"\n",
    "\n",
    "    resolverRequest = {'service':'Mast.Name.Lookup',\n",
    "                       'params':{'input':name,\n",
    "                                 'format':'json'\n",
    "                                },\n",
    "                      }\n",
    "    headers,resolvedObjectString = mastQuery(resolverRequest)\n",
    "    resolvedObject = json.loads(resolvedObjectString)\n",
    "    # The resolver returns a variety of information about the resolved object, \n",
    "    # however for our purposes all we need are the RA and Dec\n",
    "    try:\n",
    "        objRa = resolvedObject['resolvedCoordinate'][0]['ra']\n",
    "        objDec = resolvedObject['resolvedCoordinate'][0]['decl']\n",
    "    except IndexError as e:\n",
    "        raise ValueError(\"Unknown object '{}'\".format(name))\n",
    "    return (objRa, objDec)"
   ]
  },
  {
   "cell_type": "code",
   "execution_count": 8,
   "metadata": {},
   "outputs": [
    {
     "data": {
      "text/html": [
       "<i>Table length=124</i>\n",
       "<table id=\"table140717960712656\" class=\"table-striped table-bordered table-condensed\">\n",
       "<thead><tr><th>name</th><th>type</th><th>description</th></tr></thead>\n",
       "<thead><tr><th>str17</th><th>str12</th><th>str142</th></tr></thead>\n",
       "<tr><td>objName</td><td>char</td><td>IAU name for this object.</td></tr>\n",
       "<tr><td>objAltName1</td><td>char</td><td>Alternate name for this object.</td></tr>\n",
       "<tr><td>objAltName2</td><td>char</td><td>Altername name for this object.</td></tr>\n",
       "<tr><td>objAltName3</td><td>char</td><td>Altername name for this object.</td></tr>\n",
       "<tr><td>objID</td><td>long</td><td>Unique object identifier.</td></tr>\n",
       "<tr><td>uniquePspsOBid</td><td>long</td><td>Unique internal PSPS object identifier.</td></tr>\n",
       "<tr><td>ippObjID</td><td>long</td><td>IPP internal object identifier.</td></tr>\n",
       "<tr><td>surveyID</td><td>unsignedByte</td><td>Survey identifier.  Details in the Survey table.</td></tr>\n",
       "<tr><td>htmID</td><td>long</td><td>Hierarchical triangular mesh (Szalay 2007) index.</td></tr>\n",
       "<tr><td>zoneID</td><td>int</td><td>Local zone index, found by dividing the sky into bands of declination 1/2 arcminute in height: zoneID = floor((90 + declination)/0.0083333).</td></tr>\n",
       "<tr><td>...</td><td>...</td><td>...</td></tr>\n",
       "<tr><td>yMeanPSFMagMax</td><td>float</td><td>Maximum PSF magnitude from y filter detections.</td></tr>\n",
       "<tr><td>yMeanKronMag</td><td>float</td><td>Mean Kron (1980) magnitude from y filter detections.</td></tr>\n",
       "<tr><td>yMeanKronMagErr</td><td>float</td><td>Error in mean Kron (1980) magnitude from y filter detections.</td></tr>\n",
       "<tr><td>yMeanKronMagStd</td><td>float</td><td>Standard deviation of Kron (1980) magnitudes from y filter detections.</td></tr>\n",
       "<tr><td>yMeanKronMagNpt</td><td>short</td><td>Number of measurements included in mean Kron (1980) magnitude from y filter detections.</td></tr>\n",
       "<tr><td>yMeanApMag</td><td>float</td><td>Mean aperture magnitude from y filter detections.</td></tr>\n",
       "<tr><td>yMeanApMagErr</td><td>float</td><td>Error in mean aperture magnitude from y filter detections.</td></tr>\n",
       "<tr><td>yMeanApMagStd</td><td>float</td><td>Standard deviation of aperture magnitudes from y filter detections.</td></tr>\n",
       "<tr><td>yMeanApMagNpt</td><td>short</td><td>Number of measurements included in mean aperture magnitude from y filter detections.</td></tr>\n",
       "<tr><td>yFlags</td><td>int</td><td>Information flag bitmask for mean object from y filter detections.  Values listed in ObjectFilterFlags.</td></tr>\n",
       "</table>"
      ],
      "text/plain": [
       "<Table length=124>\n",
       "      name      ...\n",
       "     str17      ...\n",
       "--------------- ...\n",
       "        objName ...\n",
       "    objAltName1 ...\n",
       "    objAltName2 ...\n",
       "    objAltName3 ...\n",
       "          objID ...\n",
       " uniquePspsOBid ...\n",
       "       ippObjID ...\n",
       "       surveyID ...\n",
       "          htmID ...\n",
       "         zoneID ...\n",
       "            ... ...\n",
       " yMeanPSFMagMax ...\n",
       "   yMeanKronMag ...\n",
       "yMeanKronMagErr ...\n",
       "yMeanKronMagStd ...\n",
       "yMeanKronMagNpt ...\n",
       "     yMeanApMag ...\n",
       "  yMeanApMagErr ...\n",
       "  yMeanApMagStd ...\n",
       "  yMeanApMagNpt ...\n",
       "         yFlags ..."
      ]
     },
     "execution_count": 8,
     "metadata": {},
     "output_type": "execute_result"
    }
   ],
   "source": [
    "meta = ps1metadata(\"mean\",\"dr2\")\n",
    "meta"
   ]
  },
  {
   "cell_type": "code",
   "execution_count": 9,
   "metadata": {},
   "outputs": [
    {
     "name": "stdout",
     "output_type": "stream",
     "text": [
      "https://catalogs.mast.stsci.edu/api/v0.1/panstarrs/dr2/mean.csv?nDetections.gt=1&ra=330.68&dec=42.278&radius=0.004166666666666667&columns=%5BobjID%2CraMean%2CdecMean%2CnDetections%2Cng%2Cnr%2Cni%2Cnz%2Cny%2CgMeanPSFMag%2CrMeanPSFMag%2CiMeanPSFMag%2CzMeanPSFMag%2CyMeanPSFMag%5D\n",
      "9 rows in results -- first 5 rows:\n",
      "objID,raMean,decMean,nDetections,ng,nr,ni,nz,ny,gMeanPSFMag,rMeanPSFMag,iMeanPSFMag,zMeanPSFMag,yMeanPSFMag\r\n",
      "158733306835776586,330.68356985,42.27995169,98,14,18,41,17,8,19.637699127197266,18.69580078125,18.21540069580078,17.96489906311035,17.742799758911133\r\n",
      "158733306815534409,330.68142213,42.27829535,2,1,0,1,0,0,19.976499557495117,-999.0,18.45210075378418,-999.0,-999.0\r\n",
      "158733306804833997,330.68038444,42.27777354,97,12,18,40,17,10,15.711799621582031,15.00160026550293,13.776700019836426,13.309399604797363,13.197099685668945\r\n",
      "158733306789831284,330.67897803,42.27552405,73,3,15,37,12,6,21.305099487304688,20.116500854492188,19.355499267578125,19.049400329589844,18.519899368286133\r\n",
      "158733306789472476,330.67891718,42.2765012,21,0,2,13,4,2,-999.0,20.106700897216797,19.29450035095215,18.827499389648438,18.352500915527344\r\n"
     ]
    }
   ],
   "source": [
    "ra = ra\n",
    "dec = dec\n",
    "radius = 15.0/3600.0\n",
    "constraints = {'nDetections.gt':1}\n",
    "\n",
    "# strip blanks and weed out blank and commented-out values\n",
    "columns = \"\"\"objID,raMean,decMean,nDetections,ng,nr,ni,nz,ny,\n",
    "    gMeanPSFMag,rMeanPSFMag,iMeanPSFMag,zMeanPSFMag,yMeanPSFMag\"\"\".split(',')\n",
    "columns = [x.strip() for x in columns]\n",
    "columns = [x for x in columns if x and not x.startswith('#')]\n",
    "results = ps1cone(ra,dec,radius,release='dr2',columns=columns,verbose=True,**constraints)\n",
    "# print first few lines\n",
    "lines = results.split('\\n')\n",
    "print(len(lines),\"rows in results -- first 5 rows:\")\n",
    "print('\\n'.join(lines[:6]))"
   ]
  },
  {
   "cell_type": "code",
   "execution_count": 10,
   "metadata": {},
   "outputs": [
    {
     "data": {
      "text/html": [
       "<i>Table length=7</i>\n",
       "<table id=\"table140717960715088\" class=\"table-striped table-bordered table-condensed\">\n",
       "<thead><tr><th>objID</th><th>raMean</th><th>decMean</th><th>nDetections</th><th>ng</th><th>nr</th><th>ni</th><th>nz</th><th>ny</th><th>gMeanPSFMag</th><th>rMeanPSFMag</th><th>iMeanPSFMag</th><th>zMeanPSFMag</th><th>yMeanPSFMag</th></tr></thead>\n",
       "<thead><tr><th>int64</th><th>float64</th><th>float64</th><th>int64</th><th>int64</th><th>int64</th><th>int64</th><th>int64</th><th>int64</th><th>float64</th><th>float64</th><th>float64</th><th>float64</th><th>float64</th></tr></thead>\n",
       "<tr><td>158733306835776586</td><td>330.68356985</td><td>42.27995169</td><td>98</td><td>14</td><td>18</td><td>41</td><td>17</td><td>8</td><td>19.6377</td><td>18.6958</td><td>18.2154</td><td>17.9649</td><td>17.7428</td></tr>\n",
       "<tr><td>158733306815534409</td><td>330.68142213</td><td>42.27829535</td><td>2</td><td>1</td><td>0</td><td>1</td><td>0</td><td>0</td><td>19.9765</td><td>nan</td><td>18.4521</td><td>nan</td><td>nan</td></tr>\n",
       "<tr><td>158733306804833997</td><td>330.68038444</td><td>42.27777354</td><td>97</td><td>12</td><td>18</td><td>40</td><td>17</td><td>10</td><td>15.7118</td><td>15.0016</td><td>13.7767</td><td>13.3094</td><td>13.1971</td></tr>\n",
       "<tr><td>158733306789831284</td><td>330.67897803</td><td>42.27552405</td><td>73</td><td>3</td><td>15</td><td>37</td><td>12</td><td>6</td><td>21.3051</td><td>20.1165</td><td>19.3555</td><td>19.0494</td><td>18.5199</td></tr>\n",
       "<tr><td>158733306789472476</td><td>330.67891718</td><td>42.2765012</td><td>21</td><td>0</td><td>2</td><td>13</td><td>4</td><td>2</td><td>nan</td><td>20.1067</td><td>19.2945</td><td>18.8275</td><td>18.3525</td></tr>\n",
       "<tr><td>158733306753383256</td><td>330.67532483</td><td>42.27718084</td><td>96</td><td>12</td><td>18</td><td>39</td><td>17</td><td>10</td><td>19.9299</td><td>18.8679</td><td>18.3779</td><td>18.1307</td><td>17.9407</td></tr>\n",
       "<tr><td>158733306753273753</td><td>330.67532506</td><td>42.27752176</td><td>2</td><td>2</td><td>0</td><td>0</td><td>0</td><td>0</td><td>20.0516</td><td>nan</td><td>nan</td><td>nan</td><td>nan</td></tr>\n",
       "</table>"
      ],
      "text/plain": [
       "<Table length=7>\n",
       "      objID           raMean      decMean   ... zMeanPSFMag yMeanPSFMag\n",
       "      int64          float64      float64   ...   float64     float64  \n",
       "------------------ ------------ ----------- ... ----------- -----------\n",
       "158733306835776586 330.68356985 42.27995169 ...     17.9649     17.7428\n",
       "158733306815534409 330.68142213 42.27829535 ...         nan         nan\n",
       "158733306804833997 330.68038444 42.27777354 ...     13.3094     13.1971\n",
       "158733306789831284 330.67897803 42.27552405 ...     19.0494     18.5199\n",
       "158733306789472476 330.67891718  42.2765012 ...     18.8275     18.3525\n",
       "158733306753383256 330.67532483 42.27718084 ...     18.1307     17.9407\n",
       "158733306753273753 330.67532506 42.27752176 ...         nan         nan"
      ]
     },
     "execution_count": 10,
     "metadata": {},
     "output_type": "execute_result"
    }
   ],
   "source": [
    "tab = ascii.read(results)\n",
    "# improve the format\n",
    "for filter in 'grizy':\n",
    "    col = filter+'MeanPSFMag'\n",
    "    try:\n",
    "        tab[col].format = \".4f\"\n",
    "        tab[col][tab[col] == -999.0] = np.nan\n",
    "    except KeyError:\n",
    "        print(\"{} not found\".format(col))\n",
    "tab"
   ]
  },
  {
   "cell_type": "code",
   "execution_count": 14,
   "metadata": {},
   "outputs": [
    {
     "data": {
      "text/html": [
       "<i>Table length=4</i>\n",
       "<table id=\"table140717961206672\" class=\"table-striped table-bordered table-condensed\">\n",
       "<thead><tr><th>objID</th><th>raMean</th><th>decMean</th><th>nDetections</th><th>ng</th><th>nr</th><th>ni</th><th>nz</th><th>ny</th><th>gMeanPSFMag</th><th>rMeanPSFMag</th><th>iMeanPSFMag</th><th>zMeanPSFMag</th><th>yMeanPSFMag</th></tr></thead>\n",
       "<thead><tr><th>int64</th><th>float64</th><th>float64</th><th>int64</th><th>int64</th><th>int64</th><th>int64</th><th>int64</th><th>int64</th><th>float64</th><th>float64</th><th>float64</th><th>float64</th><th>float64</th></tr></thead>\n",
       "<tr><td>158733306789472476</td><td>330.67891718</td><td>42.2765012</td><td>21</td><td>0</td><td>2</td><td>13</td><td>4</td><td>2</td><td>nan</td><td>20.1067</td><td>19.2945</td><td>18.8275</td><td>18.3525</td></tr>\n",
       "<tr><td>158733306789831284</td><td>330.67897803</td><td>42.27552405</td><td>73</td><td>3</td><td>15</td><td>37</td><td>12</td><td>6</td><td>21.3051</td><td>20.1165</td><td>19.3555</td><td>19.0494</td><td>18.5199</td></tr>\n",
       "<tr><td>158733306804833997</td><td>330.68038444</td><td>42.27777354</td><td>97</td><td>12</td><td>18</td><td>40</td><td>17</td><td>10</td><td>15.7118</td><td>15.0016</td><td>13.7767</td><td>13.3094</td><td>13.1971</td></tr>\n",
       "<tr><td>158733306815534409</td><td>330.68142213</td><td>42.27829535</td><td>2</td><td>1</td><td>0</td><td>1</td><td>0</td><td>0</td><td>19.9765</td><td>nan</td><td>18.4521</td><td>nan</td><td>nan</td></tr>\n",
       "</table>"
      ],
      "text/plain": [
       "<Table length=4>\n",
       "      objID           raMean      decMean   ... zMeanPSFMag yMeanPSFMag\n",
       "      int64          float64      float64   ...   float64     float64  \n",
       "------------------ ------------ ----------- ... ----------- -----------\n",
       "158733306789472476 330.67891718  42.2765012 ...     18.8275     18.3525\n",
       "158733306789831284 330.67897803 42.27552405 ...     19.0494     18.5199\n",
       "158733306804833997 330.68038444 42.27777354 ...     13.3094     13.1971\n",
       "158733306815534409 330.68142213 42.27829535 ...         nan         nan"
      ]
     },
     "execution_count": 14,
     "metadata": {},
     "output_type": "execute_result"
    }
   ],
   "source": [
    "#name\n",
    "objname = 'BL Lac'\n",
    "ra, dec = resolve(objname)\n",
    "radius = 10.0/3600.0 # radius = 1 arcsec\n",
    "\n",
    "results = ps1cone(ra,dec,radius,release='dr2',columns=columns,**constraints)\n",
    "tab = ascii.read(results)\n",
    "# improve the format\n",
    "for filter in 'grizy':\n",
    "    col = filter+'MeanPSFMag'\n",
    "    tab[col].format = \".4f\"\n",
    "    tab[col][tab[col] == -999.0] = np.nan\n",
    "tab"
   ]
  },
  {
   "cell_type": "code",
   "execution_count": 15,
   "metadata": {},
   "outputs": [
    {
     "data": {
      "text/html": [
       "<i>Table length=21</i>\n",
       "<table id=\"table140717956713168\" class=\"table-striped table-bordered table-condensed\">\n",
       "<thead><tr><th>objID</th><th>detectID</th><th>filterID</th><th>obsTime</th><th>ra</th><th>dec</th><th>psfFlux</th><th>psfFluxErr</th><th>psfMajorFWHM</th><th>psfMinorFWHM</th><th>psfQfPerfect</th><th>apFlux</th><th>apFluxErr</th><th>infoFlag</th><th>infoFlag2</th><th>infoFlag3</th><th>filter</th></tr></thead>\n",
       "<thead><tr><th>int64</th><th>int64</th><th>int64</th><th>float64</th><th>float64</th><th>float64</th><th>float64</th><th>float64</th><th>float64</th><th>float64</th><th>float64</th><th>float64</th><th>float64</th><th>int64</th><th>int64</th><th>int64</th><th>str1</th></tr></thead>\n",
       "<tr><td>158733306789472476</td><td>132739390530002797</td><td>3</td><td>55428.3941716</td><td>330.67894124</td><td>42.27652755</td><td>7.845980144338682e-05</td><td>1.6620100495856605e-06</td><td>1.0175100564956665</td><td>0.9969480037689209</td><td>0.9981799721717834</td><td>0.00020932000188622624</td><td>1.6232199868682073e-06</td><td>102776839</td><td>128</td><td>40929344</td><td>i</td></tr>\n",
       "<tr><td>158733306789472476</td><td>132740653530003086</td><td>3</td><td>55428.4068109</td><td>330.67894019</td><td>42.27652265</td><td>8.024489943636581e-05</td><td>1.6864299823282636e-06</td><td>1.0090199708938599</td><td>0.9722899794578552</td><td>0.9968820214271545</td><td>0.00019352500385139138</td><td>1.5637000387869193e-06</td><td>102776839</td><td>128</td><td>40929344</td><td>i</td></tr>\n",
       "<tr><td>158733306789472476</td><td>132937001540003055</td><td>3</td><td>55430.3702825</td><td>330.6788964</td><td>42.27650702</td><td>6.434090028051287e-05</td><td>1.531509951746557e-06</td><td>0.8771340250968933</td><td>0.8117210268974304</td><td>0.9721840023994446</td><td>0.0001195150034618564</td><td>1.2247900258444133e-06</td><td>102776839</td><td>128</td><td>7374912</td><td>i</td></tr>\n",
       "<tr><td>158733306789472476</td><td>132938270530003169</td><td>3</td><td>55430.3829766</td><td>330.67892075</td><td>42.27650441</td><td>6.000489884172566e-05</td><td>1.4820800515735755e-06</td><td>0.7806239724159241</td><td>0.7559710144996643</td><td>0.9993489980697632</td><td>0.00013817699800711125</td><td>1.3256600368549698e-06</td><td>102776839</td><td>128</td><td>7374912</td><td>i</td></tr>\n",
       "<tr><td>158733306789472476</td><td>132939723530003738</td><td>2</td><td>55430.3974693</td><td>330.6789265</td><td>42.27651025</td><td>3.0747400160180405e-05</td><td>1.558699977977085e-06</td><td>0.9739829897880554</td><td>0.8949009776115417</td><td>0.971235990524292</td><td>7.754840044071898e-05</td><td>1.0038299933512462e-06</td><td>102776839</td><td>128</td><td>7374912</td><td>r</td></tr>\n",
       "<tr><td>158733306789472476</td><td>132940917530003173</td><td>2</td><td>55430.4094169</td><td>330.67888847</td><td>42.27649411</td><td>3.4861899621319026e-05</td><td>1.6418899804193643e-06</td><td>1.0958399772644043</td><td>0.9577869772911072</td><td>0.9979259967803955</td><td>9.70921028056182e-05</td><td>1.1154299954796443e-06</td><td>35667969</td><td>0</td><td>74483776</td><td>r</td></tr>\n",
       "<tr><td>158733306789472476</td><td>133046309420003075</td><td>3</td><td>55431.4633557</td><td>330.67892778</td><td>42.2765015</td><td>8.82121967151761e-05</td><td>2.4371599920414155e-06</td><td>1.254040002822876</td><td>1.1831200122833252</td><td>0.6796960234642029</td><td>0.0002471629995852709</td><td>1.9355300082679605e-06</td><td>102776839</td><td>160</td><td>2112</td><td>i</td></tr>\n",
       "<tr><td>158733306789472476</td><td>162560930650003115</td><td>4</td><td>55726.6094865</td><td>330.67890814</td><td>42.2764927</td><td>0.00010455199662828818</td><td>2.6339500891481293e-06</td><td>0.8627439737319946</td><td>0.8269439935684204</td><td>0.9985780119895935</td><td>0.00017270000535063446</td><td>2.158800043616793e-06</td><td>102776839</td><td>128</td><td>108038208</td><td>z</td></tr>\n",
       "<tr><td>158733306789472476</td><td>162561394650003511</td><td>4</td><td>55726.6141212</td><td>330.67889576</td><td>42.27648678</td><td>0.00010673500219127163</td><td>2.6825400709640235e-06</td><td>0.9106060266494751</td><td>0.875557005405426</td><td>0.9976540207862854</td><td>0.00025343798915855587</td><td>2.5884698970912723e-06</td><td>102776839</td><td>128</td><td>7374912</td><td>z</td></tr>\n",
       "<tr><td>158733306789472476</td><td>169055362510003149</td><td>3</td><td>55791.5538844</td><td>330.67893764</td><td>42.27653249</td><td>7.195759826572612e-05</td><td>1.605130023563106e-06</td><td>0.9978010058403015</td><td>0.8767369985580444</td><td>0.9634209871292114</td><td>0.00017837999621406198</td><td>1.539370032332954e-06</td><td>102776839</td><td>128</td><td>74483776</td><td>i</td></tr>\n",
       "<tr><td>158733306789472476</td><td>175520600270002213</td><td>5</td><td>55856.206192</td><td>330.67889823</td><td>42.27647013</td><td>0.0001537750067654997</td><td>8.43561974761542e-06</td><td>1.073989987373352</td><td>0.86878502368927</td><td>0.9986630082130432</td><td>0.0004142849938943982</td><td>5.355810117180226e-06</td><td>35667969</td><td>0</td><td>7374912</td><td>y</td></tr>\n",
       "<tr><td>158733306789472476</td><td>213720262530002975</td><td>4</td><td>56238.2028056</td><td>330.67888643</td><td>42.27648599</td><td>0.00010629199823597446</td><td>2.6447798973094905e-06</td><td>0.9488790035247803</td><td>0.8829330205917358</td><td>0.9888499975204468</td><td>0.00024969098740257323</td><td>2.542280071793357e-06</td><td>102776839</td><td>128</td><td>7374912</td><td>z</td></tr>\n",
       "<tr><td>158733306789472476</td><td>213720918530002655</td><td>4</td><td>56238.2093691</td><td>330.67890618</td><td>42.27650395</td><td>0.00011441799870226532</td><td>2.871350034183706e-06</td><td>1.041599988937378</td><td>0.9567229747772217</td><td>0.9953550100326538</td><td>0.00028168599237687886</td><td>2.6982299914379837e-06</td><td>102776839</td><td>128</td><td>7374912</td><td>z</td></tr>\n",
       "<tr><td>158733306789472476</td><td>217019123420002096</td><td>5</td><td>56271.1914132</td><td>330.67885764</td><td>42.27646153</td><td>0.00017723299970384687</td><td>9.373259672429413e-06</td><td>1.1123900413513184</td><td>1.0747699737548828</td><td>0.9909679889678955</td><td>0.00036654400173574686</td><td>4.980739959137281e-06</td><td>35667969</td><td>0</td><td>7374912</td><td>y</td></tr>\n",
       "<tr><td>158733306789472476</td><td>242151540350002809</td><td>3</td><td>56522.5156685</td><td>330.67890888</td><td>42.27651848</td><td>6.797510286560282e-05</td><td>1.50498999573756e-06</td><td>0.9326959848403931</td><td>0.8364289999008179</td><td>0.9992370009422302</td><td>0.00013924299855716527</td><td>1.343669964626315e-06</td><td>102776839</td><td>128</td><td>74483776</td><td>i</td></tr>\n",
       "<tr><td>158733306789472476</td><td>242152685350002895</td><td>3</td><td>56522.5271159</td><td>330.67891714</td><td>42.27652575</td><td>6.950730312382802e-05</td><td>1.5275300029315986e-06</td><td>1.0057300329208374</td><td>0.8413079977035522</td><td>0.9991869926452637</td><td>0.00014200400619301945</td><td>1.3610899713967228e-06</td><td>102776839</td><td>128</td><td>74483776</td><td>i</td></tr>\n",
       "<tr><td>158733306789472476</td><td>242645555520003498</td><td>3</td><td>56527.4558264</td><td>330.67889881</td><td>42.27651348</td><td>6.135649891803041e-05</td><td>1.5629000245098723e-06</td><td>0.7922940254211426</td><td>0.7857850193977356</td><td>0.45061299204826355</td><td>0.00012547899677883834</td><td>1.2793500445695827e-06</td><td>102776839</td><td>160</td><td>34880</td><td>i</td></tr>\n",
       "<tr><td>158733306789472476</td><td>280537806370002852</td><td>3</td><td>56906.3783288</td><td>330.67881817</td><td>42.27644145</td><td>8.343849913217127e-05</td><td>2.8013901101076044e-06</td><td>1.3126699924468994</td><td>1.189810037612915</td><td>0.6109340190887451</td><td>5.583500023931265e-05</td><td>8.520939900336089e-07</td><td>102760453</td><td>128</td><td>32768</td><td>i</td></tr>\n",
       "<tr><td>158733306789472476</td><td>283629265520003175</td><td>3</td><td>56937.2929215</td><td>330.67890802</td><td>42.27651171</td><td>6.551289698109031e-05</td><td>1.7838899566413602e-06</td><td>0.768248975276947</td><td>0.7203649878501892</td><td>0.9965400099754333</td><td>0.00011103200085926801</td><td>1.2306400094530545e-06</td><td>1176518663</td><td>128</td><td>34880</td><td>i</td></tr>\n",
       "<tr><td>158733306789472476</td><td>289121907230002713</td><td>3</td><td>56992.2193375</td><td>330.67892471</td><td>42.27649404</td><td>8.998579869512469e-05</td><td>2.0875299924227875e-06</td><td>1.1613600254058838</td><td>1.0152499675750732</td><td>0.4809429943561554</td><td>0.00017466700228396803</td><td>1.515959979769832e-06</td><td>1176518663</td><td>160</td><td>34880</td><td>i</td></tr>\n",
       "<tr><td>158733306789472476</td><td>289124343230003871</td><td>3</td><td>56992.2437023</td><td>330.67892505</td><td>42.27649813</td><td>8.38031992316246e-05</td><td>2.1563998870988144e-06</td><td>1.1602200269699097</td><td>1.0304800271987915</td><td>0.32310301065444946</td><td>0.00019149899890180677</td><td>1.5860199482631288e-06</td><td>1176502277</td><td>160</td><td>34880</td><td>i</td></tr>\n",
       "</table>"
      ],
      "text/plain": [
       "<Table length=21>\n",
       "      objID             detectID      filterID ... infoFlag2 infoFlag3 filter\n",
       "      int64              int64         int64   ...   int64     int64    str1 \n",
       "------------------ ------------------ -------- ... --------- --------- ------\n",
       "158733306789472476 132739390530002797        3 ...       128  40929344      i\n",
       "158733306789472476 132740653530003086        3 ...       128  40929344      i\n",
       "158733306789472476 132937001540003055        3 ...       128   7374912      i\n",
       "158733306789472476 132938270530003169        3 ...       128   7374912      i\n",
       "158733306789472476 132939723530003738        2 ...       128   7374912      r\n",
       "158733306789472476 132940917530003173        2 ...         0  74483776      r\n",
       "158733306789472476 133046309420003075        3 ...       160      2112      i\n",
       "158733306789472476 162560930650003115        4 ...       128 108038208      z\n",
       "158733306789472476 162561394650003511        4 ...       128   7374912      z\n",
       "158733306789472476 169055362510003149        3 ...       128  74483776      i\n",
       "158733306789472476 175520600270002213        5 ...         0   7374912      y\n",
       "158733306789472476 213720262530002975        4 ...       128   7374912      z\n",
       "158733306789472476 213720918530002655        4 ...       128   7374912      z\n",
       "158733306789472476 217019123420002096        5 ...         0   7374912      y\n",
       "158733306789472476 242151540350002809        3 ...       128  74483776      i\n",
       "158733306789472476 242152685350002895        3 ...       128  74483776      i\n",
       "158733306789472476 242645555520003498        3 ...       160     34880      i\n",
       "158733306789472476 280537806370002852        3 ...       128     32768      i\n",
       "158733306789472476 283629265520003175        3 ...       128     34880      i\n",
       "158733306789472476 289121907230002713        3 ...       160     34880      i\n",
       "158733306789472476 289124343230003871        3 ...       160     34880      i"
      ]
     },
     "execution_count": 15,
     "metadata": {},
     "output_type": "execute_result"
    }
   ],
   "source": [
    "#Get the detect information\n",
    "\n",
    "def addfilter(dtab):\n",
    "    \"\"\"Add filter name as column in detection table by translating filterID\n",
    "    \n",
    "    This modifies the table in place.  If the 'filter' column already exists,\n",
    "    the table is returned unchanged.\n",
    "    \"\"\"\n",
    "    if 'filter' not in dtab.colnames:\n",
    "        # the filterID value goes from 1 to 5 for grizy\n",
    "        id2filter = np.array(list('grizy'))\n",
    "        dtab['filter'] = id2filter[(dtab['filterID']-1).data]\n",
    "    return dtab\n",
    "\n",
    "objid = tab['objID'][0]\n",
    "dconstraints = {'objID': objid}\n",
    "dcolumns = (\"\"\"objID,detectID,filterID,obsTime,ra,dec,psfFlux,psfFluxErr,psfMajorFWHM,psfMinorFWHM,\n",
    "            psfQfPerfect,apFlux,apFluxErr,infoFlag,infoFlag2,infoFlag3\"\"\").split(',')\n",
    "# strip blanks and weed out blank and commented-out values\n",
    "dcolumns = [x.strip() for x in dcolumns]\n",
    "dcolumns = [x for x in dcolumns if x and not x.startswith('#')]\n",
    "\n",
    "dresults = ps1search(table='detection',release='dr2',columns=dcolumns,**dconstraints)\n",
    "dtab = addfilter(ascii.read(dresults))\n",
    "dtab.sort('obsTime')\n",
    "dtab"
   ]
  },
  {
   "cell_type": "code",
   "execution_count": 16,
   "metadata": {},
   "outputs": [
    {
     "data": {
      "image/png": "[encoded data removed]",
      "text/plain": [
       "<Figure size 720x720 with 5 Axes>"
      ]
     },
     "metadata": {
      "needs_background": "light"
     },
     "output_type": "display_data"
    }
   ],
   "source": [
    "#plot lc \n",
    "# convert flux in Jy to magnitudes\n",
    "t = dtab['obsTime']\n",
    "mag = -2.5*np.log10(dtab['psfFlux']) + 8.90\n",
    "xlim = np.array([t.min(),t.max()])\n",
    "xlim = xlim + np.array([-1,1])*0.02*(xlim[1]-xlim[0])\n",
    "\n",
    "flux = dtab[\"psfFlux\"]\n",
    "\n",
    "pylab.rcParams.update({'font.size': 14})\n",
    "pylab.figure(1,(10,10))\n",
    "for i, filter in enumerate(\"grizy\"):\n",
    "    pylab.subplot(511+i)\n",
    "    w = np.where(dtab['filter']==filter)\n",
    "    pylab.plot(t[w],flux[w],'-o')\n",
    "    pylab.ylabel(filter+' [Jy]')\n",
    "    pylab.xlim(xlim)\n",
    "    #pylab.gca().invert_yaxis()\n",
    "    if i==0:\n",
    "        pylab.title(objname)\n",
    "pylab.xlabel('Time [MJD]')\n",
    "pylab.tight_layout()"
   ]
  },
  {
   "cell_type": "code",
   "execution_count": null,
   "metadata": {},
   "outputs": [],
   "source": []
  },
  {
   "cell_type": "code",
   "execution_count": null,
   "metadata": {},
   "outputs": [],
   "source": []
  },
  {
   "cell_type": "code",
   "execution_count": null,
   "metadata": {},
   "outputs": [],
   "source": []
  }
 ],
 "metadata": {
  "kernelspec": {
   "display_name": "Python 3",
   "language": "python",
   "name": "python3"
  },
  "language_info": {
   "codemirror_mode": {
    "name": "ipython",
    "version": 3
   },
   "file_extension": ".py",
   "mimetype": "text/x-python",
   "name": "python",
   "nbconvert_exporter": "python",
   "pygments_lexer": "ipython3",
   "version": "3.7.6"
  }
 },
 "nbformat": 4,
 "nbformat_minor": 4
}
