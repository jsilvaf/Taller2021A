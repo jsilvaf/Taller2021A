{
 "cells": [
  {
   "cell_type": "code",
   "execution_count": 5,
   "metadata": {},
   "outputs": [
    {
     "name": "stdout",
     "output_type": "stream",
     "text": [
      "BE SURE THAT GECKODRIVER IS IN YOUR WDIR !\n",
      "Put a name for your sourceJ1512.8-0906\n",
      "Define Source coordinates (RA, DEC) according to 4FGL CatalogJ1512.8-0906\n",
      "Define your ROI width (degrees)\n",
      "Define dates for analysis239557417 , 384620219\n",
      "Define energy range (MeV) (emin, emax)\n"
     ]
    },
    {
     "ename": "KeyboardInterrupt",
     "evalue": "",
     "output_type": "error",
     "traceback": [
      "\u001b[0;31m---------------------------------------------------------------------------\u001b[0m",
      "\u001b[0;31mKeyboardInterrupt\u001b[0m                         Traceback (most recent call last)",
      "\u001b[0;32m<ipython-input-5-a4ee9de76c6e>\u001b[0m in \u001b[0;36m<module>\u001b[0;34m\u001b[0m\n\u001b[1;32m     55\u001b[0m \u001b[0;34m\u001b[0m\u001b[0m\n\u001b[1;32m     56\u001b[0m \u001b[0;31m# Standard time to files to upload (you should modify this one)\u001b[0m\u001b[0;34m\u001b[0m\u001b[0;34m\u001b[0m\u001b[0;34m\u001b[0m\u001b[0m\n\u001b[0;32m---> 57\u001b[0;31m \u001b[0mtime\u001b[0m\u001b[0;34m.\u001b[0m\u001b[0msleep\u001b[0m\u001b[0;34m(\u001b[0m\u001b[0;36m500\u001b[0m\u001b[0;34m)\u001b[0m\u001b[0;34m\u001b[0m\u001b[0;34m\u001b[0m\u001b[0m\n\u001b[0m\u001b[1;32m     58\u001b[0m \u001b[0melement\u001b[0m \u001b[0;34m=\u001b[0m \u001b[0mdriver\u001b[0m\u001b[0;34m.\u001b[0m\u001b[0mfind_element_by_partial_link_text\u001b[0m\u001b[0;34m(\u001b[0m\u001b[0;34m\"https://fermi.gsfc.nasa.gov/cgi-bin/ssc/LAT/QueryResults.cgi?id=\"\u001b[0m\u001b[0;34m)\u001b[0m\u001b[0;34m\u001b[0m\u001b[0;34m\u001b[0m\u001b[0m\n\u001b[1;32m     59\u001b[0m \u001b[0murl\u001b[0m \u001b[0;34m=\u001b[0m \u001b[0melement\u001b[0m\u001b[0;34m.\u001b[0m\u001b[0mget_attribute\u001b[0m\u001b[0;34m(\u001b[0m\u001b[0;34m'href'\u001b[0m\u001b[0;34m)\u001b[0m\u001b[0;34m\u001b[0m\u001b[0;34m\u001b[0m\u001b[0m\n",
      "\u001b[0;31mKeyboardInterrupt\u001b[0m: "
     ]
    }
   ],
   "source": [
    "from selenium import webdriver\n",
    "from selenium.webdriver.common.keys import Keys\n",
    "import time\n",
    "import os\n",
    "import urllib\n",
    "import urllib.request\n",
    "import os.path\n",
    "from os import path\n",
    "import glob\n",
    "\n",
    "print('BE SURE THAT GECKODRIVER IS IN YOUR WDIR !')\n",
    "\n",
    "\n",
    "# Creating folder to store photon and spacecraft data\n",
    "\n",
    "if not path.exists('LC_data'):\n",
    "    os.mkdir('LC_data')\n",
    "else:\n",
    "    pass\n",
    "\n",
    "\n",
    "# Give your source a name\n",
    "source_name = str(input('Put a name for your source'))\n",
    "\n",
    "if not path.exists('LC_data/' + source_name):\n",
    "    os.mkdir('LC_data/' + source_name)\n",
    "else:\n",
    "    pass\n",
    "\n",
    "# Specify source parameters, examples given for each one\n",
    "obj_name = str(input('Define Source coordinates (RA, DEC) according to 4FGL Catalog')) #\"35.6696, 43.0357\"\n",
    "coordsys = \"J2000\"\n",
    "srch_rad = str(input('Define your ROI width (degrees)')) #\"10\"\n",
    "dates = str(input('Define dates for analysis')) #239557417 498411817\"\n",
    "timesys = \"MET\"\n",
    "e_range = str(input('Define energy range (MeV) (emin, emax)')) #\"100, 200000\"\n",
    "\n",
    "# Running driver\n",
    "\n",
    "driver = webdriver.Firefox()\n",
    "driver.get(\"https://fermi.gsfc.nasa.gov/cgi-bin/ssc/LAT/LATDataQuery.cgi\")\n",
    "element = driver.find_element_by_name(\"coordfield\")\n",
    "element.send_keys(obj_name)\n",
    "element = driver.find_element_by_name(\"coordsystem\")\n",
    "element.send_keys(coordsys)\n",
    "element = driver.find_element_by_name(\"shapefield\")\n",
    "element.send_keys(srch_rad)\n",
    "element = driver.find_element_by_name(\"timefield\")\n",
    "element.send_keys(dates)\n",
    "element = driver.find_element_by_name(\"timetype\")\n",
    "element.send_keys(timesys)\n",
    "element = driver.find_element_by_name(\"energyfield\")\n",
    "element.send_keys(e_range)\n",
    "element.send_keys(Keys.RETURN)\n",
    "\n",
    "# Standard time to files to upload (you should modify this one)\n",
    "time.sleep(500)\n",
    "element = driver.find_element_by_partial_link_text(\"https://fermi.gsfc.nasa.gov/cgi-bin/ssc/LAT/QueryResults.cgi?id=\")\n",
    "url = element.get_attribute('href')\n",
    "driver.get(url)\n",
    "elements = driver.find_elements_by_xpath(\"//a[contains(@href, 'https://fermi.gsfc.nasa.gov/FTP/fermi/data/lat/queries/')]\")\n",
    "# Downloading files\n",
    "for element in elements:\n",
    "    urls = element.get_attribute('href')\n",
    "    filename = urls[55:]\n",
    "    print(filename)    \n",
    "    urllib.request.urlretrieve(urls, 'LC_data/' + source_name + '/' + filename)\n",
    "time.sleep(15)\n",
    "driver.close()\n",
    "\n",
    "# Creating text file, which contains the name of all photons files\n",
    "text_file = open('LC_data/' + source_name + '/' + source_name + '_events.txt', 'w')\n",
    "for file in glob.glob('LC_data/' + source_name + '/*PH*.fits' ):\n",
    "    text_file.write(str(file) + '\\n')\n",
    "text_file.close()\n",
    "\n",
    "\n",
    "\n",
    "\n"
   ]
  },
  {
   "cell_type": "code",
   "execution_count": null,
   "metadata": {},
   "outputs": [],
   "source": []
  }
 ],
 "metadata": {
  "kernelspec": {
   "display_name": "Python 3",
   "language": "python",
   "name": "python3"
  },
  "language_info": {
   "codemirror_mode": {
    "name": "ipython",
    "version": 3
   },
   "file_extension": ".py",
   "mimetype": "text/x-python",
   "name": "python",
   "nbconvert_exporter": "python",
   "pygments_lexer": "ipython3",
   "version": "3.7.6"
  }
 },
 "nbformat": 4,
 "nbformat_minor": 2
}
